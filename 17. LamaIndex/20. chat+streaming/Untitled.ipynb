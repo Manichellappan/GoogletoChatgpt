{
 "cells": [
  {
   "cell_type": "code",
   "execution_count": 7,
   "id": "d81fa199-ca56-4b8b-bf1e-27dbe3107223",
   "metadata": {},
   "outputs": [
    {
     "name": "stderr",
     "output_type": "stream",
     "text": [
      "/var/folders/j8/wb7_9rh96f9g2r0vvmqchbd80000gn/T/ipykernel_32346/846665397.py:14: DeprecationWarning: Call to deprecated class method from_defaults. (ServiceContext is deprecated, please use `llama_index.settings.Settings` instead.) -- Deprecated since version 0.10.0.\n",
      "  service_context = ServiceContext.from_defaults(llm=llm)\n"
     ]
    },
    {
     "name": "stdout",
     "output_type": "stream",
     "text": [
      "The author, growing up, was deeply involved in writing and programming. Before college, the author focused on writing short stories, despite considering them to be of poor quality. The stories lacked substantial plots but were centered around characters with intense emotions. This early interest in writing laid the foundation for the author's creative pursuits. \n",
      "\n",
      "In terms of programming, the author's first experience was with an IBM 1401 computer during 9th grade. The author and a friend gained permission to use the school district's 1401, which was located in the basement of their junior high school. This early exposure to programming involved using an early version of Fortran, where programs had to be typed on punch cards and loaded into memory to run. Despite initial confusion and limited resources, the author's curiosity and experimentation with programming began at a young age.\n",
      "\n",
      "The introduction of microcomputers marked a significant shift in the author's programming journey. With the ability to interact directly with a computer on a desk, the author's interest in programming was further fueled. The author's first microcomputer, a TRS-80, opened up new possibilities for writing simple games, creating programs for practical purposes like predicting rocket heights, and developing a word processor used by the author's father for writing.\n",
      "\n",
      "Although the author enjoyed programming, the initial plan was to study philosophy in college. However, the allure of Artificial Intelligence (AI) in the mid-1980s led the author to switch focus. Influenced by works like Heinlein's \"The Moon is a Harsh Mistress\" featuring an intelligent computer named Mike, and exposure to Terry Winograd using SHRDLU in a PBS documentary, the author's interest in AI was solidified. This shift towards AI was driven by a fascination with the potential of intelligent machines and the evolving landscape of technology.\n",
      "\n",
      "The author's journey through writing, programming, and academic pursuits reflects a blend of creativity, curiosity, and adaptability. From humble beginnings of writing short stories and experimenting with early programming languages on punch cards to embracing the possibilities of microcomputers and the realm of AI, the author's growth and development were shaped by a passion for exploration and innovation.\n",
      "\n",
      "Overall, the author's experiences growing up highlight a trajectory marked by a continuous quest for knowledge, creativity, and the pursuit of understanding complex systems. The combination of writing and programming skills, coupled with a curiosity for emerging technologies, laid the groundwork for the author's future endeavors and contributions to the field of technology and AI."
     ]
    }
   ],
   "source": [
    "import os\n",
    "import openai\n",
    "from langchain.chat_models import ChatOpenAI\n",
    "from llama_index.core import VectorStoreIndex, SimpleDirectoryReader, ServiceContext\n",
    "from langchain.chat_models import ChatOpenAI\n",
    "from llama_index.llms.openai import OpenAI\n",
    "from dotenv import load_dotenv, find_dotenv\n",
    "load_dotenv(find_dotenv(), override=True)\n",
    "\n",
    "# step 1 : pass streaming as true in LLMPredictor\n",
    "llm = OpenAI(temperature=0, model_name=\"gpt-3.5-turbo\", streaming=True)\n",
    "\n",
    "documents = SimpleDirectoryReader(\"input/text\").load_data()\n",
    "service_context = ServiceContext.from_defaults(llm=llm)\n",
    "index = VectorStoreIndex.from_documents(documents= documents, service_context=service_context)\n",
    "\n",
    "# step 2 : Pass streaming as true in query engine\n",
    "query_engine = index.as_query_engine(streaming = True)\n",
    "\n",
    "# ask questions\n",
    "response = query_engine.query(\"Give the answer in detailed with minimum 500 words for the following question: What did author do growing up?\")\n",
    "\n",
    "# print stream response\n",
    "response.print_response_stream()"
   ]
  },
  {
   "cell_type": "code",
   "execution_count": null,
   "id": "37b5a7e3-d99b-4782-a54f-9456dd185786",
   "metadata": {},
   "outputs": [],
   "source": []
  }
 ],
 "metadata": {
  "kernelspec": {
   "display_name": "Python 3 (ipykernel)",
   "language": "python",
   "name": "python3"
  },
  "language_info": {
   "codemirror_mode": {
    "name": "ipython",
    "version": 3
   },
   "file_extension": ".py",
   "mimetype": "text/x-python",
   "name": "python",
   "nbconvert_exporter": "python",
   "pygments_lexer": "ipython3",
   "version": "3.11.8"
  }
 },
 "nbformat": 4,
 "nbformat_minor": 5
}
