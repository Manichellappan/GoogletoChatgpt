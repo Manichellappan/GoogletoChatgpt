{
 "cells": [
  {
   "cell_type": "code",
   "execution_count": 1,
   "id": "0d8944aa-e7a3-4215-a01d-47930a4ab9a3",
   "metadata": {},
   "outputs": [],
   "source": [
    "from llama_index.llms.ollama import Ollama"
   ]
  },
  {
   "cell_type": "code",
   "execution_count": null,
   "id": "6aa178a7-836b-4d56-83ad-a592ad6a7673",
   "metadata": {},
   "outputs": [],
   "source": [
    "#!pip install llama-index-llms-ollama"
   ]
  },
  {
   "cell_type": "code",
   "execution_count": 2,
   "id": "2675fac6-ac15-4533-a678-001a362c5559",
   "metadata": {},
   "outputs": [
    {
     "name": "stdout",
     "output_type": "stream",
     "text": [
      "NAME          \tID          \tSIZE  \tMODIFIED       \n",
      "gemma2:latest \tff02c3702f32\t5.4 GB\t16 minutes ago\t\n",
      "llama3:latest \t365c0bd3c000\t4.7 GB\t2 hours ago   \t\n",
      "mistral:latest\t2ae6f6dd7a3d\t4.1 GB\t12 days ago   \t\n"
     ]
    }
   ],
   "source": [
    "!ollama list"
   ]
  },
  {
   "cell_type": "code",
   "execution_count": 9,
   "id": "a78573c7-7c25-4cc0-ac65-a3d726ee93b8",
   "metadata": {},
   "outputs": [],
   "source": [
    "llm_gemma2 = Ollama(model='gemma2')\n",
    "llm_llama3 = Ollama(model='llama3')\n",
    "llm_mistral = Ollama(model='mistral')\n",
    "llm_tinyllama = Ollama(model='tinyllama')"
   ]
  },
  {
   "cell_type": "code",
   "execution_count": 6,
   "id": "c814987b-5c61-4859-851b-be433da7a4bb",
   "metadata": {
    "scrolled": true
   },
   "outputs": [
    {
     "name": "stdout",
     "output_type": "stream",
     "text": [
      "CPU times: user 11.6 ms, sys: 4.15 ms, total: 15.7 ms\n",
      "Wall time: 12.4 s\n"
     ]
    },
    {
     "data": {
      "text/plain": [
       "CompletionResponse(text='Once upon a time, in the land of Computer Code, lived two programming languages named Python and Java. They were both powerful tools, used by programmers to build amazing things like websites, games, and even robots!\\n\\nPython was a friendly and easy-to-learn language. He spoke in simple words that were almost like English, making him perfect for beginners. His code looked clean and neat, like a well-organized room. Python loved creating art, animations, and fun interactive programs. He was known for being quick and efficient, finishing tasks faster than most.\\n\\nJava, on the other hand, was more serious and structured. He spoke in a precise language with strict rules, like a well-rehearsed orchestra. His code looked complex and detailed, like a giant puzzle. Java excelled at building large, complex applications like banking systems and mobile apps. He was known for being reliable and secure, ensuring everything ran smoothly and safely.\\n\\nOne day, a contest was announced: \"Who can build the best robot?\" Python and Java both eagerly signed up.\\n\\nPython, always quick to start, began coding his robot with simple commands. His robot was nimble and agile, able to dance and perform tricks with ease. But when it came to complex tasks like solving puzzles or navigating obstacles, Python\\'s code struggled.\\n\\nJava, on the other hand, meticulously planned his robot\\'s design. He spent days writing detailed instructions and ensuring every part worked perfectly together. Java\\'s robot was strong and dependable, able to solve even the toughest challenges with precision. However, it moved slowly and lacked the creativity of Python\\'s robot.\\n\\nThe judges were impressed by both robots. Python\\'s robot was entertaining and full of personality, while Java\\'s robot was efficient and reliable. In the end, they decided that there wasn\\'t a clear winner.\\n\\nPython and Java learned something important that day. Each language had its own strengths and weaknesses. Python was perfect for quick, creative projects, while Java excelled at building large, complex applications. They realized that the best language to use depended on the task at hand.\\n\\nFrom then on, Python and Java became friends, working together on various projects. They learned from each other, combining Python\\'s creativity with Java\\'s reliability to create amazing things!\\n\\n\\nRemember, just like Python and Java, different tools are better suited for different jobs. As you learn more about programming, you\\'ll discover which languages best suit your interests and goals!', additional_kwargs={'model': 'gemma2', 'created_at': '2024-07-20T04:16:26.607336Z', 'done': True, 'done_reason': 'stop', 'context': [106, 1645, 108, 3611, 692, 5598, 476, 3904, 1105, 17706, 5135, 1821, 575, 235248, 235308, 235276, 235276, 3907, 577, 476, 235248, 235308, 489, 10745, 5913, 235336, 107, 108, 106, 2516, 108, 14326, 3054, 476, 1069, 235269, 575, 573, 2840, 576, 15963, 6698, 235269, 11012, 1378, 19991, 17044, 8602, 21237, 578, 12071, 235265, 2365, 1049, 2145, 10276, 8112, 235269, 1671, 731, 107783, 577, 2500, 7358, 2652, 1154, 21605, 235269, 5178, 235269, 578, 1693, 42037, 235341, 109, 27922, 729, 476, 9376, 578, 3980, 235290, 511, 235290, 21580, 5255, 235265, 1315, 13704, 575, 3890, 3907, 674, 1049, 4461, 1154, 4645, 235269, 3547, 1357, 4434, 604, 50783, 235265, 4340, 3409, 6281, 3903, 578, 24327, 235269, 1154, 476, 1578, 235290, 63173, 2965, 235265, 21237, 8829, 10241, 3096, 235269, 55089, 235269, 578, 2245, 29295, 7658, 235265, 1315, 729, 3836, 604, 1855, 4320, 578, 10878, 235269, 28209, 13333, 13042, 1178, 1546, 235265, 109, 16488, 235269, 611, 573, 1156, 1634, 235269, 729, 978, 6449, 578, 40856, 235265, 1315, 13704, 575, 476, 14927, 5255, 675, 7724, 6364, 235269, 1154, 476, 1578, 235290, 478, 228452, 49428, 235265, 4340, 3409, 6281, 5766, 578, 11352, 235269, 1154, 476, 17835, 24754, 235265, 12071, 150732, 696, 4547, 2910, 235269, 5766, 8557, 1154, 25795, 5188, 578, 7635, 15262, 235265, 1315, 729, 3836, 604, 1855, 16455, 578, 10548, 235269, 26936, 4553, 8876, 43494, 578, 23683, 235265, 109, 4038, 1744, 235269, 476, 17418, 729, 9777, 235292, 664, 6571, 798, 2500, 573, 1963, 18571, 3595, 21237, 578, 12071, 2145, 70659, 10795, 908, 235265, 109, 27922, 235269, 2593, 4320, 577, 2238, 235269, 6343, 28924, 926, 18571, 675, 3890, 20058, 235265, 4340, 18571, 729, 177002, 578, 73080, 235269, 3326, 577, 11877, 578, 3114, 35333, 675, 15668, 235265, 2005, 1185, 665, 3392, 577, 5766, 13333, 1154, 26149, 56983, 689, 93697, 36638, 235269, 21237, 235303, 235256, 3409, 42189, 235265, 109, 16488, 235269, 611, 573, 1156, 1634, 235269, 167553, 14196, 926, 18571, 235303, 235256, 2480, 235265, 1315, 9040, 2705, 6706, 11352, 12027, 578, 26936, 1535, 1702, 6800, 13596, 3584, 235265, 12071, 235303, 235256, 18571, 729, 3779, 578, 106108, 235269, 3326, 577, 11560, 1693, 573, 103646, 12382, 675, 21342, 235265, 4560, 235269, 665, 8509, 13708, 578, 62340, 573, 31583, 576, 21237, 235303, 235256, 18571, 235265, 109, 651, 28100, 1049, 25181, 731, 2145, 42037, 235265, 21237, 235303, 235256, 18571, 729, 37076, 578, 2247, 576, 18347, 235269, 2183, 12071, 235303, 235256, 18571, 729, 10878, 578, 16455, 235265, 878, 573, 1580, 235269, 984, 7697, 674, 1104, 7332, 235303, 235251, 476, 3110, 16995, 235265, 109, 27922, 578, 12071, 9710, 2775, 2845, 674, 1744, 235265, 9573, 5255, 1093, 1277, 1997, 39711, 578, 52989, 235265, 21237, 729, 4434, 604, 4320, 235269, 12354, 7340, 235269, 2183, 12071, 150732, 696, 4547, 2910, 235269, 5766, 8557, 235265, 2365, 16729, 674, 573, 1963, 5255, 577, 1281, 69579, 611, 573, 6911, 696, 1634, 235265, 109, 3604, 1492, 611, 235269, 21237, 578, 12071, 5981, 4078, 235269, 3434, 3584, 611, 4282, 7340, 235265, 2365, 9710, 774, 1853, 1156, 235269, 38894, 21237, 235303, 235256, 31583, 675, 12071, 235303, 235256, 28438, 577, 3104, 7358, 2652, 235341, 110, 25440, 235269, 1317, 1154, 21237, 578, 12071, 235269, 2167, 8112, 708, 2525, 32584, 604, 2167, 11088, 235265, 1877, 692, 3918, 978, 1105, 19991, 235269, 692, 235303, 529, 8067, 948, 17044, 1963, 9460, 861, 10714, 578, 9082, 235341], 'total_duration': 12353473042, 'load_duration': 28941084, 'prompt_eval_count': 32, 'prompt_eval_duration': 633448000, 'eval_count': 505, 'eval_duration': 11690389000}, raw={'model': 'gemma2', 'created_at': '2024-07-20T04:16:26.607336Z', 'response': 'Once upon a time, in the land of Computer Code, lived two programming languages named Python and Java. They were both powerful tools, used by programmers to build amazing things like websites, games, and even robots!\\n\\nPython was a friendly and easy-to-learn language. He spoke in simple words that were almost like English, making him perfect for beginners. His code looked clean and neat, like a well-organized room. Python loved creating art, animations, and fun interactive programs. He was known for being quick and efficient, finishing tasks faster than most.\\n\\nJava, on the other hand, was more serious and structured. He spoke in a precise language with strict rules, like a well-rehearsed orchestra. His code looked complex and detailed, like a giant puzzle. Java excelled at building large, complex applications like banking systems and mobile apps. He was known for being reliable and secure, ensuring everything ran smoothly and safely.\\n\\nOne day, a contest was announced: \"Who can build the best robot?\" Python and Java both eagerly signed up.\\n\\nPython, always quick to start, began coding his robot with simple commands. His robot was nimble and agile, able to dance and perform tricks with ease. But when it came to complex tasks like solving puzzles or navigating obstacles, Python\\'s code struggled.\\n\\nJava, on the other hand, meticulously planned his robot\\'s design. He spent days writing detailed instructions and ensuring every part worked perfectly together. Java\\'s robot was strong and dependable, able to solve even the toughest challenges with precision. However, it moved slowly and lacked the creativity of Python\\'s robot.\\n\\nThe judges were impressed by both robots. Python\\'s robot was entertaining and full of personality, while Java\\'s robot was efficient and reliable. In the end, they decided that there wasn\\'t a clear winner.\\n\\nPython and Java learned something important that day. Each language had its own strengths and weaknesses. Python was perfect for quick, creative projects, while Java excelled at building large, complex applications. They realized that the best language to use depended on the task at hand.\\n\\nFrom then on, Python and Java became friends, working together on various projects. They learned from each other, combining Python\\'s creativity with Java\\'s reliability to create amazing things!\\n\\n\\nRemember, just like Python and Java, different tools are better suited for different jobs. As you learn more about programming, you\\'ll discover which languages best suit your interests and goals!', 'done': True, 'done_reason': 'stop', 'context': [106, 1645, 108, 3611, 692, 5598, 476, 3904, 1105, 17706, 5135, 1821, 575, 235248, 235308, 235276, 235276, 3907, 577, 476, 235248, 235308, 489, 10745, 5913, 235336, 107, 108, 106, 2516, 108, 14326, 3054, 476, 1069, 235269, 575, 573, 2840, 576, 15963, 6698, 235269, 11012, 1378, 19991, 17044, 8602, 21237, 578, 12071, 235265, 2365, 1049, 2145, 10276, 8112, 235269, 1671, 731, 107783, 577, 2500, 7358, 2652, 1154, 21605, 235269, 5178, 235269, 578, 1693, 42037, 235341, 109, 27922, 729, 476, 9376, 578, 3980, 235290, 511, 235290, 21580, 5255, 235265, 1315, 13704, 575, 3890, 3907, 674, 1049, 4461, 1154, 4645, 235269, 3547, 1357, 4434, 604, 50783, 235265, 4340, 3409, 6281, 3903, 578, 24327, 235269, 1154, 476, 1578, 235290, 63173, 2965, 235265, 21237, 8829, 10241, 3096, 235269, 55089, 235269, 578, 2245, 29295, 7658, 235265, 1315, 729, 3836, 604, 1855, 4320, 578, 10878, 235269, 28209, 13333, 13042, 1178, 1546, 235265, 109, 16488, 235269, 611, 573, 1156, 1634, 235269, 729, 978, 6449, 578, 40856, 235265, 1315, 13704, 575, 476, 14927, 5255, 675, 7724, 6364, 235269, 1154, 476, 1578, 235290, 478, 228452, 49428, 235265, 4340, 3409, 6281, 5766, 578, 11352, 235269, 1154, 476, 17835, 24754, 235265, 12071, 150732, 696, 4547, 2910, 235269, 5766, 8557, 1154, 25795, 5188, 578, 7635, 15262, 235265, 1315, 729, 3836, 604, 1855, 16455, 578, 10548, 235269, 26936, 4553, 8876, 43494, 578, 23683, 235265, 109, 4038, 1744, 235269, 476, 17418, 729, 9777, 235292, 664, 6571, 798, 2500, 573, 1963, 18571, 3595, 21237, 578, 12071, 2145, 70659, 10795, 908, 235265, 109, 27922, 235269, 2593, 4320, 577, 2238, 235269, 6343, 28924, 926, 18571, 675, 3890, 20058, 235265, 4340, 18571, 729, 177002, 578, 73080, 235269, 3326, 577, 11877, 578, 3114, 35333, 675, 15668, 235265, 2005, 1185, 665, 3392, 577, 5766, 13333, 1154, 26149, 56983, 689, 93697, 36638, 235269, 21237, 235303, 235256, 3409, 42189, 235265, 109, 16488, 235269, 611, 573, 1156, 1634, 235269, 167553, 14196, 926, 18571, 235303, 235256, 2480, 235265, 1315, 9040, 2705, 6706, 11352, 12027, 578, 26936, 1535, 1702, 6800, 13596, 3584, 235265, 12071, 235303, 235256, 18571, 729, 3779, 578, 106108, 235269, 3326, 577, 11560, 1693, 573, 103646, 12382, 675, 21342, 235265, 4560, 235269, 665, 8509, 13708, 578, 62340, 573, 31583, 576, 21237, 235303, 235256, 18571, 235265, 109, 651, 28100, 1049, 25181, 731, 2145, 42037, 235265, 21237, 235303, 235256, 18571, 729, 37076, 578, 2247, 576, 18347, 235269, 2183, 12071, 235303, 235256, 18571, 729, 10878, 578, 16455, 235265, 878, 573, 1580, 235269, 984, 7697, 674, 1104, 7332, 235303, 235251, 476, 3110, 16995, 235265, 109, 27922, 578, 12071, 9710, 2775, 2845, 674, 1744, 235265, 9573, 5255, 1093, 1277, 1997, 39711, 578, 52989, 235265, 21237, 729, 4434, 604, 4320, 235269, 12354, 7340, 235269, 2183, 12071, 150732, 696, 4547, 2910, 235269, 5766, 8557, 235265, 2365, 16729, 674, 573, 1963, 5255, 577, 1281, 69579, 611, 573, 6911, 696, 1634, 235265, 109, 3604, 1492, 611, 235269, 21237, 578, 12071, 5981, 4078, 235269, 3434, 3584, 611, 4282, 7340, 235265, 2365, 9710, 774, 1853, 1156, 235269, 38894, 21237, 235303, 235256, 31583, 675, 12071, 235303, 235256, 28438, 577, 3104, 7358, 2652, 235341, 110, 25440, 235269, 1317, 1154, 21237, 578, 12071, 235269, 2167, 8112, 708, 2525, 32584, 604, 2167, 11088, 235265, 1877, 692, 3918, 978, 1105, 19991, 235269, 692, 235303, 529, 8067, 948, 17044, 1963, 9460, 861, 10714, 578, 9082, 235341], 'total_duration': 12353473042, 'load_duration': 28941084, 'prompt_eval_count': 32, 'prompt_eval_duration': 633448000, 'eval_count': 505, 'eval_duration': 11690389000}, logprobs=None, delta=None)"
      ]
     },
     "execution_count": 6,
     "metadata": {},
     "output_type": "execute_result"
    }
   ],
   "source": [
    "%%time\n",
    "llm_gemma2.complete('Can you write a story about python vs java in 500 words to a 5th grade student?')"
   ]
  },
  {
   "cell_type": "code",
   "execution_count": 7,
   "id": "2ba82737-2a3b-4717-aab9-b0fc85a20879",
   "metadata": {
    "scrolled": true
   },
   "outputs": [
    {
     "name": "stdout",
     "output_type": "stream",
     "text": [
      "CPU times: user 12.7 ms, sys: 3.29 ms, total: 16 ms\n",
      "Wall time: 19.4 s\n"
     ]
    },
    {
     "data": {
      "text/plain": [
       "CompletionResponse(text='Here\\'s a story about Python and Java for a 5th-grade level:\\n\\nOnce upon a time, there were two programming languages named Python and Java. They lived in the same \"coding city\" but had very different personalities.\\n\\nPython was like the laid-back surfer dude. He loved to keep things simple and easy-going. He would often say, \"Hey, don\\'t worry about the details, just get it working!\" Python liked to think that coding should be fun and relaxed, like playing a game of beach volleyball on a sunny day.\\n\\nJava, on the other hand, was more like the super-organized accountant. She loved to follow strict rules and make sure everything added up perfectly. Java would say, \"Hey, let\\'s break it down step by step! We need to make sure our code is 100% accurate!\" Java thought that coding should be like solving a tricky math problem - precise and methodical.\\n\\nOne day, the city council asked Python and Java to work together on a big project. They had to create a program that could help people find the nearest library in their area. Python was excited to get started and just started typing away. \"Hey, let\\'s see what happens if we try this!\" he exclaimed. And before you knew it, he had a working program - but it wasn\\'t exactly perfect.\\n\\nJava, on the other hand, took her time and carefully planned out every step. She wrote down a list of all the tasks she needed to complete and checked each one twice before moving on to the next. \"We can\\'t have any mistakes!\" she emphasized. And when she finished, she had a program that was super precise and accurate - but it took her a lot longer to get there.\\n\\nThe city council looked at both programs and decided that they wanted something in between - something that was easy to use like Python\\'s program, but also reliable and accurate like Java\\'s program. They asked the two languages to combine their efforts and create an even better program.\\n\\nPython and Java were initially hesitant, but eventually, they worked together and created a program that was both fun and precise. It used simple commands like Python liked, but also included built-in checks to make sure it was accurate like Java\\'s program.\\n\\nIn the end, the city council was thrilled with their combined effort, and people all over the city were able to easily find their nearest library using the new program. Python and Java learned that even though they had different personalities and approaches, they could still work together to create something amazing.\\n\\nFrom then on, Python and Java became great friends and collaborators in the coding world. They showed everyone that with a little bit of flexibility and teamwork, even the most unlikely languages can come together to achieve something truly special!', additional_kwargs={'model': 'llama3', 'created_at': '2024-07-20T04:16:53.857667Z', 'done': True, 'done_reason': 'stop', 'context': [128006, 882, 128007, 271, 6854, 499, 3350, 264, 3446, 922, 10344, 6296, 1674, 304, 220, 2636, 4339, 311, 264, 220, 20, 339, 12239, 5575, 30, 128009, 128006, 78191, 128007, 271, 8586, 596, 264, 3446, 922, 13325, 323, 8102, 369, 264, 220, 20, 339, 41327, 2237, 1473, 12805, 5304, 264, 892, 11, 1070, 1051, 1403, 15840, 15823, 7086, 13325, 323, 8102, 13, 2435, 12439, 304, 279, 1890, 330, 49467, 3363, 1, 719, 1047, 1633, 2204, 44908, 382, 31380, 574, 1093, 279, 17551, 15825, 1765, 809, 36157, 13, 1283, 10456, 311, 2567, 2574, 4382, 323, 4228, 65912, 13, 1283, 1053, 3629, 2019, 11, 330, 19182, 11, 1541, 956, 11196, 922, 279, 3649, 11, 1120, 636, 433, 3318, 9135, 13325, 15262, 311, 1781, 430, 11058, 1288, 387, 2523, 323, 31467, 11, 1093, 5737, 264, 1847, 315, 11573, 77167, 389, 264, 40798, 1938, 382, 15391, 11, 389, 279, 1023, 1450, 11, 574, 810, 1093, 279, 2307, 12, 63316, 76021, 13, 3005, 10456, 311, 1833, 7452, 5718, 323, 1304, 2771, 4395, 3779, 709, 14268, 13, 8102, 1053, 2019, 11, 330, 19182, 11, 1095, 596, 1464, 433, 1523, 3094, 555, 3094, 0, 1226, 1205, 311, 1304, 2771, 1057, 2082, 374, 220, 1041, 4, 13687, 9135, 8102, 3463, 430, 11058, 1288, 387, 1093, 22581, 264, 34553, 7033, 3575, 482, 24473, 323, 1749, 950, 382, 4054, 1938, 11, 279, 3363, 15177, 4691, 13325, 323, 8102, 311, 990, 3871, 389, 264, 2466, 2447, 13, 2435, 1047, 311, 1893, 264, 2068, 430, 1436, 1520, 1274, 1505, 279, 24379, 6875, 304, 872, 3158, 13, 13325, 574, 12304, 311, 636, 3940, 323, 1120, 3940, 20061, 3201, 13, 330, 19182, 11, 1095, 596, 1518, 1148, 8741, 422, 584, 1456, 420, 9135, 568, 80608, 13, 1628, 1603, 499, 7020, 433, 11, 568, 1047, 264, 3318, 2068, 482, 719, 433, 5828, 956, 7041, 4832, 382, 15391, 11, 389, 279, 1023, 1450, 11, 3952, 1077, 892, 323, 15884, 13205, 704, 1475, 3094, 13, 3005, 6267, 1523, 264, 1160, 315, 682, 279, 9256, 1364, 4460, 311, 4686, 323, 10273, 1855, 832, 11157, 1603, 7366, 389, 311, 279, 1828, 13, 330, 1687, 649, 956, 617, 904, 21294, 9135, 1364, 46728, 13, 1628, 994, 1364, 8220, 11, 1364, 1047, 264, 2068, 430, 574, 2307, 24473, 323, 13687, 482, 719, 433, 3952, 1077, 264, 2763, 5129, 311, 636, 1070, 382, 791, 3363, 15177, 7111, 520, 2225, 7620, 323, 6773, 430, 814, 4934, 2555, 304, 1990, 482, 2555, 430, 574, 4228, 311, 1005, 1093, 13325, 596, 2068, 11, 719, 1101, 15062, 323, 13687, 1093, 8102, 596, 2068, 13, 2435, 4691, 279, 1403, 15823, 311, 16343, 872, 9045, 323, 1893, 459, 1524, 2731, 2068, 382, 31380, 323, 8102, 1051, 15453, 71560, 11, 719, 9778, 11, 814, 6575, 3871, 323, 3549, 264, 2068, 430, 574, 2225, 2523, 323, 24473, 13, 1102, 1511, 4382, 11545, 1093, 13325, 15262, 11, 719, 1101, 5343, 5918, 3502, 12621, 311, 1304, 2771, 433, 574, 13687, 1093, 8102, 596, 2068, 382, 644, 279, 842, 11, 279, 3363, 15177, 574, 38564, 449, 872, 11093, 5149, 11, 323, 1274, 682, 927, 279, 3363, 1051, 3025, 311, 6847, 1505, 872, 24379, 6875, 1701, 279, 502, 2068, 13, 13325, 323, 8102, 9687, 430, 1524, 3582, 814, 1047, 2204, 44908, 323, 20414, 11, 814, 1436, 2103, 990, 3871, 311, 1893, 2555, 8056, 382, 3915, 1243, 389, 11, 13325, 323, 8102, 6244, 2294, 4885, 323, 79119, 304, 279, 11058, 1917, 13, 2435, 8710, 5127, 430, 449, 264, 2697, 2766, 315, 25152, 323, 84633, 11, 1524, 279, 1455, 17821, 15823, 649, 2586, 3871, 311, 11322, 2555, 9615, 3361, 0], 'total_duration': 19403986042, 'load_duration': 9569839500, 'prompt_eval_count': 31, 'prompt_eval_duration': 91597000, 'eval_count': 554, 'eval_duration': 9741708000}, raw={'model': 'llama3', 'created_at': '2024-07-20T04:16:53.857667Z', 'response': 'Here\\'s a story about Python and Java for a 5th-grade level:\\n\\nOnce upon a time, there were two programming languages named Python and Java. They lived in the same \"coding city\" but had very different personalities.\\n\\nPython was like the laid-back surfer dude. He loved to keep things simple and easy-going. He would often say, \"Hey, don\\'t worry about the details, just get it working!\" Python liked to think that coding should be fun and relaxed, like playing a game of beach volleyball on a sunny day.\\n\\nJava, on the other hand, was more like the super-organized accountant. She loved to follow strict rules and make sure everything added up perfectly. Java would say, \"Hey, let\\'s break it down step by step! We need to make sure our code is 100% accurate!\" Java thought that coding should be like solving a tricky math problem - precise and methodical.\\n\\nOne day, the city council asked Python and Java to work together on a big project. They had to create a program that could help people find the nearest library in their area. Python was excited to get started and just started typing away. \"Hey, let\\'s see what happens if we try this!\" he exclaimed. And before you knew it, he had a working program - but it wasn\\'t exactly perfect.\\n\\nJava, on the other hand, took her time and carefully planned out every step. She wrote down a list of all the tasks she needed to complete and checked each one twice before moving on to the next. \"We can\\'t have any mistakes!\" she emphasized. And when she finished, she had a program that was super precise and accurate - but it took her a lot longer to get there.\\n\\nThe city council looked at both programs and decided that they wanted something in between - something that was easy to use like Python\\'s program, but also reliable and accurate like Java\\'s program. They asked the two languages to combine their efforts and create an even better program.\\n\\nPython and Java were initially hesitant, but eventually, they worked together and created a program that was both fun and precise. It used simple commands like Python liked, but also included built-in checks to make sure it was accurate like Java\\'s program.\\n\\nIn the end, the city council was thrilled with their combined effort, and people all over the city were able to easily find their nearest library using the new program. Python and Java learned that even though they had different personalities and approaches, they could still work together to create something amazing.\\n\\nFrom then on, Python and Java became great friends and collaborators in the coding world. They showed everyone that with a little bit of flexibility and teamwork, even the most unlikely languages can come together to achieve something truly special!', 'done': True, 'done_reason': 'stop', 'context': [128006, 882, 128007, 271, 6854, 499, 3350, 264, 3446, 922, 10344, 6296, 1674, 304, 220, 2636, 4339, 311, 264, 220, 20, 339, 12239, 5575, 30, 128009, 128006, 78191, 128007, 271, 8586, 596, 264, 3446, 922, 13325, 323, 8102, 369, 264, 220, 20, 339, 41327, 2237, 1473, 12805, 5304, 264, 892, 11, 1070, 1051, 1403, 15840, 15823, 7086, 13325, 323, 8102, 13, 2435, 12439, 304, 279, 1890, 330, 49467, 3363, 1, 719, 1047, 1633, 2204, 44908, 382, 31380, 574, 1093, 279, 17551, 15825, 1765, 809, 36157, 13, 1283, 10456, 311, 2567, 2574, 4382, 323, 4228, 65912, 13, 1283, 1053, 3629, 2019, 11, 330, 19182, 11, 1541, 956, 11196, 922, 279, 3649, 11, 1120, 636, 433, 3318, 9135, 13325, 15262, 311, 1781, 430, 11058, 1288, 387, 2523, 323, 31467, 11, 1093, 5737, 264, 1847, 315, 11573, 77167, 389, 264, 40798, 1938, 382, 15391, 11, 389, 279, 1023, 1450, 11, 574, 810, 1093, 279, 2307, 12, 63316, 76021, 13, 3005, 10456, 311, 1833, 7452, 5718, 323, 1304, 2771, 4395, 3779, 709, 14268, 13, 8102, 1053, 2019, 11, 330, 19182, 11, 1095, 596, 1464, 433, 1523, 3094, 555, 3094, 0, 1226, 1205, 311, 1304, 2771, 1057, 2082, 374, 220, 1041, 4, 13687, 9135, 8102, 3463, 430, 11058, 1288, 387, 1093, 22581, 264, 34553, 7033, 3575, 482, 24473, 323, 1749, 950, 382, 4054, 1938, 11, 279, 3363, 15177, 4691, 13325, 323, 8102, 311, 990, 3871, 389, 264, 2466, 2447, 13, 2435, 1047, 311, 1893, 264, 2068, 430, 1436, 1520, 1274, 1505, 279, 24379, 6875, 304, 872, 3158, 13, 13325, 574, 12304, 311, 636, 3940, 323, 1120, 3940, 20061, 3201, 13, 330, 19182, 11, 1095, 596, 1518, 1148, 8741, 422, 584, 1456, 420, 9135, 568, 80608, 13, 1628, 1603, 499, 7020, 433, 11, 568, 1047, 264, 3318, 2068, 482, 719, 433, 5828, 956, 7041, 4832, 382, 15391, 11, 389, 279, 1023, 1450, 11, 3952, 1077, 892, 323, 15884, 13205, 704, 1475, 3094, 13, 3005, 6267, 1523, 264, 1160, 315, 682, 279, 9256, 1364, 4460, 311, 4686, 323, 10273, 1855, 832, 11157, 1603, 7366, 389, 311, 279, 1828, 13, 330, 1687, 649, 956, 617, 904, 21294, 9135, 1364, 46728, 13, 1628, 994, 1364, 8220, 11, 1364, 1047, 264, 2068, 430, 574, 2307, 24473, 323, 13687, 482, 719, 433, 3952, 1077, 264, 2763, 5129, 311, 636, 1070, 382, 791, 3363, 15177, 7111, 520, 2225, 7620, 323, 6773, 430, 814, 4934, 2555, 304, 1990, 482, 2555, 430, 574, 4228, 311, 1005, 1093, 13325, 596, 2068, 11, 719, 1101, 15062, 323, 13687, 1093, 8102, 596, 2068, 13, 2435, 4691, 279, 1403, 15823, 311, 16343, 872, 9045, 323, 1893, 459, 1524, 2731, 2068, 382, 31380, 323, 8102, 1051, 15453, 71560, 11, 719, 9778, 11, 814, 6575, 3871, 323, 3549, 264, 2068, 430, 574, 2225, 2523, 323, 24473, 13, 1102, 1511, 4382, 11545, 1093, 13325, 15262, 11, 719, 1101, 5343, 5918, 3502, 12621, 311, 1304, 2771, 433, 574, 13687, 1093, 8102, 596, 2068, 382, 644, 279, 842, 11, 279, 3363, 15177, 574, 38564, 449, 872, 11093, 5149, 11, 323, 1274, 682, 927, 279, 3363, 1051, 3025, 311, 6847, 1505, 872, 24379, 6875, 1701, 279, 502, 2068, 13, 13325, 323, 8102, 9687, 430, 1524, 3582, 814, 1047, 2204, 44908, 323, 20414, 11, 814, 1436, 2103, 990, 3871, 311, 1893, 2555, 8056, 382, 3915, 1243, 389, 11, 13325, 323, 8102, 6244, 2294, 4885, 323, 79119, 304, 279, 11058, 1917, 13, 2435, 8710, 5127, 430, 449, 264, 2697, 2766, 315, 25152, 323, 84633, 11, 1524, 279, 1455, 17821, 15823, 649, 2586, 3871, 311, 11322, 2555, 9615, 3361, 0], 'total_duration': 19403986042, 'load_duration': 9569839500, 'prompt_eval_count': 31, 'prompt_eval_duration': 91597000, 'eval_count': 554, 'eval_duration': 9741708000}, logprobs=None, delta=None)"
      ]
     },
     "execution_count": 7,
     "metadata": {},
     "output_type": "execute_result"
    }
   ],
   "source": [
    "%%time\n",
    "llm_llama3.complete('Can you write a story about python vs java in 500 words to a 5th grade student?')"
   ]
  },
  {
   "cell_type": "code",
   "execution_count": 8,
   "id": "d0183d74-561d-4fb1-8207-34e675f2286f",
   "metadata": {
    "scrolled": true
   },
   "outputs": [
    {
     "name": "stdout",
     "output_type": "stream",
     "text": [
      "CPU times: user 6.29 ms, sys: 3.15 ms, total: 9.44 ms\n",
      "Wall time: 18.3 s\n"
     ]
    },
    {
     "data": {
      "text/plain": [
       "CompletionResponse(text=\" Title: The Great Code Adventure: Python and Java's Friendly Race\\n\\nOnce upon a time, in the magical world of Computerville, lived two best friends named Python and Java. They were not your typical friends; they were computer programming languages! They lived in the Valley of Algorithms, where every day was filled with fun and learning.\\n\\nPython, with his friendly and easy-to-understand nature, was loved by everyone. He was perfect for beginners as he made coding simple and enjoyable. Python could make games, create art, and even talk to humans! But there was one thing Python wished for - speed. He wanted to solve problems faster.\\n\\nJava, on the other hand, was a bit more complex. He was known for his strength and efficiency in large projects. Java could build strong structures like websites and mobile applications, but he wasn't as simple as Python. What Java lacked was the friendliness that Python had.\\n\\nOne sunny day, the friends decided to race to see who could solve a problem the fastest. The challenge was set: Whoever could create a game of Tic-Tac-Toe first would be the winner. The whole Valley of Algorithms was excited!\\n\\nPython started by setting up the game's structure and making it interactive, but he took some time because he wanted to make sure beginners could also play the game easily. Java began by optimizing his code for speed, but he had to be careful not to make things too complex or no one would understand his game.\\n\\nAs they worked, Python made a cute Tic-Tac-Toe board with colorful graphics, and it was indeed easy to play! But as he added more features, like the option to play against the computer, time started to slip away from him.\\n\\nJava, meanwhile, was making quick progress. His code was efficient, but not as visually appealing as Python's. The game worked fine, but it lacked the charm that Python's had.\\n\\nIn the end, Java finished his Tic-Tac-Toe game first, but Python's game looked more inviting. Both friends were proud of their creations and realized they each had unique strengths.\\n\\nFrom then on, Python continued to be the friendly choice for beginners, making coding enjoyable and less intimidating. Java remained the strong and efficient choice for big projects, where speed and optimization mattered most. And so, in the Valley of Algorithms, everyone lived happily ever after, knowing they could always pick the right language for their needs!\\n\\nMoral: Every programming language has its strengths and weaknesses, and you should choose the one that best suits your needs as a coder. Keep exploring and learning about different languages, like Python and Java, to find the ones you love!\", additional_kwargs={'model': 'mistral', 'created_at': '2024-07-20T04:17:12.199306Z', 'done': True, 'done_reason': 'stop', 'context': [3, 29473, 3186, 1136, 4092, 1032, 3606, 1452, 22734, 8477, 3838, 1065, 29473, 29550, 29502, 29502, 3853, 1066, 1032, 29473, 29550, 1130, 12914, 6484, 29572, 29473, 4, 29473, 14391, 29515, 1183, 6811, 8364, 20540, 1250, 29515, 22134, 1072, 12407, 29510, 29481, 13877, 1114, 20824, 781, 781, 16882, 4482, 1032, 1495, 29493, 1065, 1040, 21695, 2294, 1070, 14419, 1552, 3225, 29493, 7030, 1757, 2257, 4050, 5928, 22134, 1072, 12407, 29491, 2074, 1422, 1227, 1342, 11610, 4050, 29513, 1358, 1422, 6842, 17060, 14796, 29576, 2074, 7030, 1065, 1040, 11277, 1070, 1744, 17098, 29493, 1738, 1780, 2138, 1171, 7542, 1163, 1514, 1072, 5936, 29491, 781, 781, 6986, 8186, 29493, 1163, 1284, 10899, 1072, 4179, 29501, 1300, 29501, 6432, 2561, 5503, 29493, 1171, 6813, 1254, 4144, 29491, 1418, 1171, 4427, 1122, 2817, 12958, 1158, 1168, 2037, 23131, 4356, 1072, 26872, 29491, 22134, 1597, 1806, 4665, 29493, 2999, 2292, 29493, 1072, 1787, 2753, 1066, 11357, 29576, 1860, 1504, 1171, 1392, 2738, 22134, 16302, 1122, 1155, 5743, 29491, 1418, 3381, 1066, 12817, 5186, 10324, 29491, 781, 781, 16241, 29493, 1124, 1040, 1567, 1789, 29493, 1171, 1032, 3054, 1448, 5398, 29491, 1418, 1171, 3419, 1122, 1284, 7110, 1072, 13600, 1065, 3243, 7796, 29491, 12407, 1597, 2581, 3735, 12062, 1505, 14254, 1072, 8346, 9197, 29493, 1330, 1168, 3491, 29510, 29475, 1158, 4356, 1158, 22134, 29491, 2592, 12407, 6270, 1054, 1171, 1040, 2600, 29482, 2262, 1137, 22134, 1321, 29491, 781, 781, 6935, 5144, 2548, 2138, 29493, 1040, 4050, 5264, 1066, 6709, 1066, 1800, 1461, 1597, 12817, 1032, 3468, 1040, 26522, 29491, 1183, 8803, 1171, 1576, 29515, 7294, 2316, 1597, 2999, 1032, 2807, 1070, 1088, 1062, 29501, 29506, 1091, 29501, 2319, 29474, 1675, 1450, 1115, 1040, 14610, 29491, 1183, 3662, 11277, 1070, 1744, 17098, 1171, 10302, 29576, 781, 781, 6986, 8186, 3542, 1254, 6355, 1350, 1040, 2807, 29510, 29481, 5461, 1072, 3260, 1146, 23737, 29493, 1330, 1168, 2824, 1509, 1495, 1864, 1168, 3381, 1066, 1806, 2632, 2817, 12958, 1597, 1603, 1924, 1040, 2807, 5829, 29491, 12407, 3893, 1254, 7765, 4632, 1284, 3464, 1122, 5743, 29493, 1330, 1168, 1321, 1066, 1115, 12059, 1227, 1066, 1806, 2490, 2136, 5398, 1210, 1476, 1392, 1450, 3148, 1284, 2807, 29491, 781, 781, 2966, 1358, 4966, 29493, 22134, 2037, 1032, 18717, 1088, 1062, 29501, 29506, 1091, 29501, 2319, 29474, 5881, 1163, 3949, 1775, 20115, 29493, 1072, 1146, 1171, 8934, 4179, 1066, 1924, 29576, 1860, 1158, 1168, 4654, 1448, 4958, 29493, 1505, 1040, 4319, 1066, 1924, 2603, 1040, 6842, 29493, 1495, 3542, 1066, 13838, 2521, 1245, 1481, 29491, 781, 781, 16241, 29493, 2840, 6181, 29493, 1171, 3260, 3704, 5865, 29491, 3122, 3464, 1171, 9864, 29493, 1330, 1227, 1158, 2485, 2091, 27936, 1158, 22134, 29510, 29481, 29491, 1183, 2807, 4966, 5201, 29493, 1330, 1146, 6270, 1054, 1040, 23301, 1137, 22134, 29510, 29481, 1321, 29491, 781, 781, 1425, 1040, 1716, 29493, 12407, 6735, 1284, 1088, 1062, 29501, 29506, 1091, 29501, 2319, 29474, 2807, 1675, 29493, 1330, 22134, 29510, 29481, 2807, 3150, 1448, 2072, 5096, 29491, 8597, 4050, 1422, 10161, 1070, 1420, 2085, 1465, 1072, 7953, 1358, 2198, 1321, 5610, 28904, 29491, 781, 781, 4168, 1636, 1124, 29493, 22134, 6085, 1066, 1115, 1040, 10899, 5550, 1122, 2817, 12958, 29493, 3260, 23131, 26872, 1072, 2876, 26925, 1845, 29491, 12407, 8336, 1040, 3735, 1072, 9864, 5550, 1122, 2800, 7796, 29493, 1738, 5743, 1072, 19354, 3977, 1054, 1848, 29491, 1783, 1347, 29493, 1065, 1040, 11277, 1070, 1744, 17098, 29493, 4144, 7030, 25461, 3038, 1792, 29493, 8983, 1358, 1597, 2511, 3856, 1040, 1871, 4610, 1122, 1420, 3976, 29576, 781, 781, 29523, 11569, 29515, 4971, 17060, 4610, 1427, 1639, 28904, 1072, 19056, 1042, 29493, 1072, 1136, 1791, 5755, 1040, 1392, 1137, 2257, 22321, 1342, 3976, 1158, 1032, 1045, 6490, 29491, 11107, 22122, 1072, 5936, 1452, 2349, 14796, 29493, 1505, 22134, 1072, 12407, 29493, 1066, 2068, 1040, 5181, 1136, 2784, 29576], 'total_duration': 18323003416, 'load_duration': 8537688041, 'prompt_eval_count': 28, 'prompt_eval_duration': 86946000, 'eval_count': 598, 'eval_duration': 9697484000}, raw={'model': 'mistral', 'created_at': '2024-07-20T04:17:12.199306Z', 'response': \" Title: The Great Code Adventure: Python and Java's Friendly Race\\n\\nOnce upon a time, in the magical world of Computerville, lived two best friends named Python and Java. They were not your typical friends; they were computer programming languages! They lived in the Valley of Algorithms, where every day was filled with fun and learning.\\n\\nPython, with his friendly and easy-to-understand nature, was loved by everyone. He was perfect for beginners as he made coding simple and enjoyable. Python could make games, create art, and even talk to humans! But there was one thing Python wished for - speed. He wanted to solve problems faster.\\n\\nJava, on the other hand, was a bit more complex. He was known for his strength and efficiency in large projects. Java could build strong structures like websites and mobile applications, but he wasn't as simple as Python. What Java lacked was the friendliness that Python had.\\n\\nOne sunny day, the friends decided to race to see who could solve a problem the fastest. The challenge was set: Whoever could create a game of Tic-Tac-Toe first would be the winner. The whole Valley of Algorithms was excited!\\n\\nPython started by setting up the game's structure and making it interactive, but he took some time because he wanted to make sure beginners could also play the game easily. Java began by optimizing his code for speed, but he had to be careful not to make things too complex or no one would understand his game.\\n\\nAs they worked, Python made a cute Tic-Tac-Toe board with colorful graphics, and it was indeed easy to play! But as he added more features, like the option to play against the computer, time started to slip away from him.\\n\\nJava, meanwhile, was making quick progress. His code was efficient, but not as visually appealing as Python's. The game worked fine, but it lacked the charm that Python's had.\\n\\nIn the end, Java finished his Tic-Tac-Toe game first, but Python's game looked more inviting. Both friends were proud of their creations and realized they each had unique strengths.\\n\\nFrom then on, Python continued to be the friendly choice for beginners, making coding enjoyable and less intimidating. Java remained the strong and efficient choice for big projects, where speed and optimization mattered most. And so, in the Valley of Algorithms, everyone lived happily ever after, knowing they could always pick the right language for their needs!\\n\\nMoral: Every programming language has its strengths and weaknesses, and you should choose the one that best suits your needs as a coder. Keep exploring and learning about different languages, like Python and Java, to find the ones you love!\", 'done': True, 'done_reason': 'stop', 'context': [3, 29473, 3186, 1136, 4092, 1032, 3606, 1452, 22734, 8477, 3838, 1065, 29473, 29550, 29502, 29502, 3853, 1066, 1032, 29473, 29550, 1130, 12914, 6484, 29572, 29473, 4, 29473, 14391, 29515, 1183, 6811, 8364, 20540, 1250, 29515, 22134, 1072, 12407, 29510, 29481, 13877, 1114, 20824, 781, 781, 16882, 4482, 1032, 1495, 29493, 1065, 1040, 21695, 2294, 1070, 14419, 1552, 3225, 29493, 7030, 1757, 2257, 4050, 5928, 22134, 1072, 12407, 29491, 2074, 1422, 1227, 1342, 11610, 4050, 29513, 1358, 1422, 6842, 17060, 14796, 29576, 2074, 7030, 1065, 1040, 11277, 1070, 1744, 17098, 29493, 1738, 1780, 2138, 1171, 7542, 1163, 1514, 1072, 5936, 29491, 781, 781, 6986, 8186, 29493, 1163, 1284, 10899, 1072, 4179, 29501, 1300, 29501, 6432, 2561, 5503, 29493, 1171, 6813, 1254, 4144, 29491, 1418, 1171, 4427, 1122, 2817, 12958, 1158, 1168, 2037, 23131, 4356, 1072, 26872, 29491, 22134, 1597, 1806, 4665, 29493, 2999, 2292, 29493, 1072, 1787, 2753, 1066, 11357, 29576, 1860, 1504, 1171, 1392, 2738, 22134, 16302, 1122, 1155, 5743, 29491, 1418, 3381, 1066, 12817, 5186, 10324, 29491, 781, 781, 16241, 29493, 1124, 1040, 1567, 1789, 29493, 1171, 1032, 3054, 1448, 5398, 29491, 1418, 1171, 3419, 1122, 1284, 7110, 1072, 13600, 1065, 3243, 7796, 29491, 12407, 1597, 2581, 3735, 12062, 1505, 14254, 1072, 8346, 9197, 29493, 1330, 1168, 3491, 29510, 29475, 1158, 4356, 1158, 22134, 29491, 2592, 12407, 6270, 1054, 1171, 1040, 2600, 29482, 2262, 1137, 22134, 1321, 29491, 781, 781, 6935, 5144, 2548, 2138, 29493, 1040, 4050, 5264, 1066, 6709, 1066, 1800, 1461, 1597, 12817, 1032, 3468, 1040, 26522, 29491, 1183, 8803, 1171, 1576, 29515, 7294, 2316, 1597, 2999, 1032, 2807, 1070, 1088, 1062, 29501, 29506, 1091, 29501, 2319, 29474, 1675, 1450, 1115, 1040, 14610, 29491, 1183, 3662, 11277, 1070, 1744, 17098, 1171, 10302, 29576, 781, 781, 6986, 8186, 3542, 1254, 6355, 1350, 1040, 2807, 29510, 29481, 5461, 1072, 3260, 1146, 23737, 29493, 1330, 1168, 2824, 1509, 1495, 1864, 1168, 3381, 1066, 1806, 2632, 2817, 12958, 1597, 1603, 1924, 1040, 2807, 5829, 29491, 12407, 3893, 1254, 7765, 4632, 1284, 3464, 1122, 5743, 29493, 1330, 1168, 1321, 1066, 1115, 12059, 1227, 1066, 1806, 2490, 2136, 5398, 1210, 1476, 1392, 1450, 3148, 1284, 2807, 29491, 781, 781, 2966, 1358, 4966, 29493, 22134, 2037, 1032, 18717, 1088, 1062, 29501, 29506, 1091, 29501, 2319, 29474, 5881, 1163, 3949, 1775, 20115, 29493, 1072, 1146, 1171, 8934, 4179, 1066, 1924, 29576, 1860, 1158, 1168, 4654, 1448, 4958, 29493, 1505, 1040, 4319, 1066, 1924, 2603, 1040, 6842, 29493, 1495, 3542, 1066, 13838, 2521, 1245, 1481, 29491, 781, 781, 16241, 29493, 2840, 6181, 29493, 1171, 3260, 3704, 5865, 29491, 3122, 3464, 1171, 9864, 29493, 1330, 1227, 1158, 2485, 2091, 27936, 1158, 22134, 29510, 29481, 29491, 1183, 2807, 4966, 5201, 29493, 1330, 1146, 6270, 1054, 1040, 23301, 1137, 22134, 29510, 29481, 1321, 29491, 781, 781, 1425, 1040, 1716, 29493, 12407, 6735, 1284, 1088, 1062, 29501, 29506, 1091, 29501, 2319, 29474, 2807, 1675, 29493, 1330, 22134, 29510, 29481, 2807, 3150, 1448, 2072, 5096, 29491, 8597, 4050, 1422, 10161, 1070, 1420, 2085, 1465, 1072, 7953, 1358, 2198, 1321, 5610, 28904, 29491, 781, 781, 4168, 1636, 1124, 29493, 22134, 6085, 1066, 1115, 1040, 10899, 5550, 1122, 2817, 12958, 29493, 3260, 23131, 26872, 1072, 2876, 26925, 1845, 29491, 12407, 8336, 1040, 3735, 1072, 9864, 5550, 1122, 2800, 7796, 29493, 1738, 5743, 1072, 19354, 3977, 1054, 1848, 29491, 1783, 1347, 29493, 1065, 1040, 11277, 1070, 1744, 17098, 29493, 4144, 7030, 25461, 3038, 1792, 29493, 8983, 1358, 1597, 2511, 3856, 1040, 1871, 4610, 1122, 1420, 3976, 29576, 781, 781, 29523, 11569, 29515, 4971, 17060, 4610, 1427, 1639, 28904, 1072, 19056, 1042, 29493, 1072, 1136, 1791, 5755, 1040, 1392, 1137, 2257, 22321, 1342, 3976, 1158, 1032, 1045, 6490, 29491, 11107, 22122, 1072, 5936, 1452, 2349, 14796, 29493, 1505, 22134, 1072, 12407, 29493, 1066, 2068, 1040, 5181, 1136, 2784, 29576], 'total_duration': 18323003416, 'load_duration': 8537688041, 'prompt_eval_count': 28, 'prompt_eval_duration': 86946000, 'eval_count': 598, 'eval_duration': 9697484000}, logprobs=None, delta=None)"
      ]
     },
     "execution_count": 8,
     "metadata": {},
     "output_type": "execute_result"
    }
   ],
   "source": [
    "%%time\n",
    "llm_mistral.complete('Can you write a story about python vs java in 500 words to a 5th grade student?')"
   ]
  },
  {
   "cell_type": "code",
   "execution_count": 10,
   "id": "1c32197d-abb6-43e4-99f4-90f56c906f38",
   "metadata": {
    "scrolled": true
   },
   "outputs": [
    {
     "name": "stdout",
     "output_type": "stream",
     "text": [
      "CPU times: user 11.2 ms, sys: 2.71 ms, total: 13.9 ms\n",
      "Wall time: 2.13 s\n"
     ]
    },
    {
     "data": {
      "text/plain": [
       "CompletionResponse(text='Once upon a time, there were two amazing programming languages: Python and Java. They were both incredibly popular among developers due to their powerful features and ease of use. However, one day, the students in a fifth-grade class had an assignment to create a program that could play a game of chess.\\n\\nThe kids were excited to begin their project but soon realized they would be working with two programming languages - Python and Java. They quickly agreed to work together to complete the task.\\n\\nAfter some brainstorming, they decided to design an app using Python as the main language and Java for game logic. The students spent several hours coding and creating a program that could play chess.\\n\\nAfter completing the project, the students were excited to share their work with their classmates. They showed off their Python-written program, which they called \"Chessbot\", and its Java counterpart, \"ChessJuice\".\\n\\nThe kids were blown away by how well their programs played the game of chess. To their delight, they received rave reviews from their classmates who were impressed with the Python-written program\\'s advanced algorithms and Java-coded game logic.\\n\\nAs they left the school hallway to head home, the students couldn\\'t wait to tell their parents about their coding achievement. They were thrilled to have learned how to create a powerful game of chess using Python and Java programming languages.\\n\\nTheir parents were equally impressed with their coding skills and asked them what they had learned. The students proudly told them that they had learned to write programs that could play the most popular board game in history - Chess!', additional_kwargs={'model': 'tinyllama', 'created_at': '2024-07-20T04:19:50.38465Z', 'done': True, 'done_reason': 'stop', 'context': [529, 29989, 5205, 29989, 29958, 13, 3492, 526, 263, 8444, 319, 29902, 20255, 29889, 2, 29871, 13, 29966, 29989, 1792, 29989, 29958, 13, 6028, 366, 2436, 263, 5828, 1048, 11451, 386, 265, 7186, 2115, 297, 29871, 29945, 29900, 29900, 3838, 304, 263, 29871, 29945, 386, 19468, 8368, 29973, 2, 29871, 13, 29966, 29989, 465, 22137, 29989, 29958, 13, 26222, 2501, 263, 931, 29892, 727, 892, 1023, 21863, 292, 8720, 6361, 3357, 2710, 29901, 10772, 386, 265, 322, 3355, 29889, 2688, 892, 1716, 29811, 14981, 5972, 4249, 18777, 2861, 304, 1009, 13988, 5680, 322, 16326, 310, 671, 29889, 2398, 29892, 697, 2462, 29892, 278, 8041, 297, 263, 18615, 29899, 8228, 770, 750, 385, 12827, 304, 1653, 263, 1824, 393, 1033, 1708, 263, 3748, 310, 923, 893, 29889, 13, 13, 1576, 26397, 29879, 892, 24173, 304, 3380, 1009, 2060, 541, 4720, 16387, 896, 723, 367, 1985, 411, 1023, 8720, 6361, 3357, 2710, 448, 10772, 386, 265, 322, 3355, 29889, 2688, 9098, 15502, 304, 664, 4208, 304, 4866, 278, 3414, 29889, 13, 13, 13555, 777, 17294, 28957, 4056, 29892, 896, 8459, 304, 2874, 385, 623, 773, 10772, 386, 265, 408, 278, 1667, 6361, 3357, 479, 322, 3355, 363, 3748, 5900, 29889, 450, 8041, 10398, 3196, 6199, 14137, 322, 4969, 263, 1824, 393, 1033, 1708, 923, 893, 29889, 13, 13, 13555, 3315, 292, 278, 2060, 29892, 278, 8041, 892, 24173, 304, 6232, 1009, 664, 411, 1009, 770, 25046, 29879, 29889, 2688, 10018, 1283, 1009, 10772, 386, 265, 29899, 17625, 1824, 29892, 607, 896, 2000, 376, 26856, 893, 7451, 613, 322, 967, 3355, 6795, 1595, 29892, 376, 26856, 893, 29967, 1481, 346, 1642, 13, 13, 1576, 26397, 29879, 892, 13031, 29876, 3448, 491, 920, 1532, 1009, 11104, 5318, 278, 3748, 310, 923, 893, 29889, 1763, 1009, 26561, 12443, 29873, 29892, 896, 4520, 27710, 29872, 21804, 515, 1009, 770, 25046, 29879, 1058, 892, 21210, 287, 411, 278, 10772, 386, 265, 29899, 17625, 1824, 29915, 29879, 12862, 24673, 768, 7184, 29879, 322, 3355, 29899, 29659, 3748, 5900, 29889, 13, 13, 2887, 896, 2175, 278, 3762, 12713, 1582, 304, 2343, 3271, 29892, 278, 8041, 8496, 29915, 29873, 4480, 304, 2649, 1009, 11825, 1048, 1009, 14137, 6176, 358, 29889, 2688, 892, 1468, 24455, 304, 505, 10972, 920, 304, 1653, 263, 13988, 3748, 310, 923, 893, 773, 10772, 386, 265, 322, 3355, 8720, 6361, 3357, 2710, 29889, 13, 13, 1576, 381, 11825, 892, 18018, 21210, 287, 411, 1009, 14137, 25078, 322, 4433, 963, 825, 896, 750, 10972, 29889, 450, 8041, 22314, 368, 5429, 963, 393, 896, 750, 10972, 304, 2436, 11104, 393, 1033, 1708, 278, 1556, 5972, 7613, 3748, 297, 4955, 448, 6561, 893, 29991], 'total_duration': 2113189583, 'load_duration': 303135916, 'prompt_eval_count': 59, 'prompt_eval_duration': 30960000, 'eval_count': 354, 'eval_duration': 1778480000}, raw={'model': 'tinyllama', 'created_at': '2024-07-20T04:19:50.38465Z', 'response': 'Once upon a time, there were two amazing programming languages: Python and Java. They were both incredibly popular among developers due to their powerful features and ease of use. However, one day, the students in a fifth-grade class had an assignment to create a program that could play a game of chess.\\n\\nThe kids were excited to begin their project but soon realized they would be working with two programming languages - Python and Java. They quickly agreed to work together to complete the task.\\n\\nAfter some brainstorming, they decided to design an app using Python as the main language and Java for game logic. The students spent several hours coding and creating a program that could play chess.\\n\\nAfter completing the project, the students were excited to share their work with their classmates. They showed off their Python-written program, which they called \"Chessbot\", and its Java counterpart, \"ChessJuice\".\\n\\nThe kids were blown away by how well their programs played the game of chess. To their delight, they received rave reviews from their classmates who were impressed with the Python-written program\\'s advanced algorithms and Java-coded game logic.\\n\\nAs they left the school hallway to head home, the students couldn\\'t wait to tell their parents about their coding achievement. They were thrilled to have learned how to create a powerful game of chess using Python and Java programming languages.\\n\\nTheir parents were equally impressed with their coding skills and asked them what they had learned. The students proudly told them that they had learned to write programs that could play the most popular board game in history - Chess!', 'done': True, 'done_reason': 'stop', 'context': [529, 29989, 5205, 29989, 29958, 13, 3492, 526, 263, 8444, 319, 29902, 20255, 29889, 2, 29871, 13, 29966, 29989, 1792, 29989, 29958, 13, 6028, 366, 2436, 263, 5828, 1048, 11451, 386, 265, 7186, 2115, 297, 29871, 29945, 29900, 29900, 3838, 304, 263, 29871, 29945, 386, 19468, 8368, 29973, 2, 29871, 13, 29966, 29989, 465, 22137, 29989, 29958, 13, 26222, 2501, 263, 931, 29892, 727, 892, 1023, 21863, 292, 8720, 6361, 3357, 2710, 29901, 10772, 386, 265, 322, 3355, 29889, 2688, 892, 1716, 29811, 14981, 5972, 4249, 18777, 2861, 304, 1009, 13988, 5680, 322, 16326, 310, 671, 29889, 2398, 29892, 697, 2462, 29892, 278, 8041, 297, 263, 18615, 29899, 8228, 770, 750, 385, 12827, 304, 1653, 263, 1824, 393, 1033, 1708, 263, 3748, 310, 923, 893, 29889, 13, 13, 1576, 26397, 29879, 892, 24173, 304, 3380, 1009, 2060, 541, 4720, 16387, 896, 723, 367, 1985, 411, 1023, 8720, 6361, 3357, 2710, 448, 10772, 386, 265, 322, 3355, 29889, 2688, 9098, 15502, 304, 664, 4208, 304, 4866, 278, 3414, 29889, 13, 13, 13555, 777, 17294, 28957, 4056, 29892, 896, 8459, 304, 2874, 385, 623, 773, 10772, 386, 265, 408, 278, 1667, 6361, 3357, 479, 322, 3355, 363, 3748, 5900, 29889, 450, 8041, 10398, 3196, 6199, 14137, 322, 4969, 263, 1824, 393, 1033, 1708, 923, 893, 29889, 13, 13, 13555, 3315, 292, 278, 2060, 29892, 278, 8041, 892, 24173, 304, 6232, 1009, 664, 411, 1009, 770, 25046, 29879, 29889, 2688, 10018, 1283, 1009, 10772, 386, 265, 29899, 17625, 1824, 29892, 607, 896, 2000, 376, 26856, 893, 7451, 613, 322, 967, 3355, 6795, 1595, 29892, 376, 26856, 893, 29967, 1481, 346, 1642, 13, 13, 1576, 26397, 29879, 892, 13031, 29876, 3448, 491, 920, 1532, 1009, 11104, 5318, 278, 3748, 310, 923, 893, 29889, 1763, 1009, 26561, 12443, 29873, 29892, 896, 4520, 27710, 29872, 21804, 515, 1009, 770, 25046, 29879, 1058, 892, 21210, 287, 411, 278, 10772, 386, 265, 29899, 17625, 1824, 29915, 29879, 12862, 24673, 768, 7184, 29879, 322, 3355, 29899, 29659, 3748, 5900, 29889, 13, 13, 2887, 896, 2175, 278, 3762, 12713, 1582, 304, 2343, 3271, 29892, 278, 8041, 8496, 29915, 29873, 4480, 304, 2649, 1009, 11825, 1048, 1009, 14137, 6176, 358, 29889, 2688, 892, 1468, 24455, 304, 505, 10972, 920, 304, 1653, 263, 13988, 3748, 310, 923, 893, 773, 10772, 386, 265, 322, 3355, 8720, 6361, 3357, 2710, 29889, 13, 13, 1576, 381, 11825, 892, 18018, 21210, 287, 411, 1009, 14137, 25078, 322, 4433, 963, 825, 896, 750, 10972, 29889, 450, 8041, 22314, 368, 5429, 963, 393, 896, 750, 10972, 304, 2436, 11104, 393, 1033, 1708, 278, 1556, 5972, 7613, 3748, 297, 4955, 448, 6561, 893, 29991], 'total_duration': 2113189583, 'load_duration': 303135916, 'prompt_eval_count': 59, 'prompt_eval_duration': 30960000, 'eval_count': 354, 'eval_duration': 1778480000}, logprobs=None, delta=None)"
      ]
     },
     "execution_count": 10,
     "metadata": {},
     "output_type": "execute_result"
    }
   ],
   "source": [
    "\n",
    "%%time\n",
    "llm_tinyllama.complete('Can you write a story about python vs java in 500 words to a 5th grade student?')"
   ]
  },
  {
   "cell_type": "code",
   "execution_count": null,
   "id": "e61e4b47-f487-492d-851e-dff7affbc16c",
   "metadata": {},
   "outputs": [],
   "source": []
  },
  {
   "cell_type": "code",
   "execution_count": null,
   "id": "d885aa49-78f9-4907-a820-a1ace99e72f3",
   "metadata": {},
   "outputs": [],
   "source": []
  },
  {
   "cell_type": "code",
   "execution_count": 23,
   "id": "78c2ac7f-dca4-40cd-82bd-40ffb8fd1d9e",
   "metadata": {
    "scrolled": true
   },
   "outputs": [
    {
     "data": {
      "application/vnd.jupyter.widget-view+json": {
       "model_id": "8b4b421dc9054009941eb8a7e3560932",
       "version_major": 2,
       "version_minor": 0
      },
      "text/plain": [
       "tokenizer_config.json:   0%|          | 0.00/776 [00:00<?, ?B/s]"
      ]
     },
     "metadata": {},
     "output_type": "display_data"
    },
    {
     "data": {
      "application/vnd.jupyter.widget-view+json": {
       "model_id": "80e467736de741a29386e281724d3b82",
       "version_major": 2,
       "version_minor": 0
      },
      "text/plain": [
       "tokenizer.model:   0%|          | 0.00/500k [00:00<?, ?B/s]"
      ]
     },
     "metadata": {},
     "output_type": "display_data"
    },
    {
     "data": {
      "application/vnd.jupyter.widget-view+json": {
       "model_id": "65672b5f5a2649c8b1dc98099d0240d3",
       "version_major": 2,
       "version_minor": 0
      },
      "text/plain": [
       "tokenizer.json:   0%|          | 0.00/1.84M [00:00<?, ?B/s]"
      ]
     },
     "metadata": {},
     "output_type": "display_data"
    },
    {
     "data": {
      "application/vnd.jupyter.widget-view+json": {
       "model_id": "46c9e8493b624be1b612222bf7222821",
       "version_major": 2,
       "version_minor": 0
      },
      "text/plain": [
       "special_tokens_map.json:   0%|          | 0.00/414 [00:00<?, ?B/s]"
      ]
     },
     "metadata": {},
     "output_type": "display_data"
    },
    {
     "data": {
      "application/vnd.jupyter.widget-view+json": {
       "model_id": "87b14fbd9ea444be8b0ac95d43aff9a6",
       "version_major": 2,
       "version_minor": 0
      },
      "text/plain": [
       "pytorch_model.bin:  57%|#####7    | 2.53G/4.40G [00:00<?, ?B/s]"
      ]
     },
     "metadata": {},
     "output_type": "display_data"
    },
    {
     "name": "stderr",
     "output_type": "stream",
     "text": [
      "/opt/homebrew/lib/python3.11/site-packages/torch/_utils.py:831: UserWarning: TypedStorage is deprecated. It will be removed in the future and UntypedStorage will be the only storage class. This should only matter to you if you are using storages directly.  To access UntypedStorage directly, use tensor.untyped_storage() instead of tensor.storage()\n",
      "  return self.fget.__get__(instance, owner)()\n"
     ]
    },
    {
     "data": {
      "application/vnd.jupyter.widget-view+json": {
       "model_id": "1d04375150f94e3392f92c0dbcbf6efc",
       "version_major": 2,
       "version_minor": 0
      },
      "text/plain": [
       "generation_config.json:   0%|          | 0.00/129 [00:00<?, ?B/s]"
      ]
     },
     "metadata": {},
     "output_type": "display_data"
    },
    {
     "name": "stderr",
     "output_type": "stream",
     "text": [
      "Truncation was not explicitly activated but `max_length` is provided a specific value, please use `truncation=True` to explicitly truncate examples to max length. Defaulting to 'longest_first' truncation strategy. If you encode pairs of sequences (GLUE-style) with the tokenizer you can select this strategy more precisely by providing a specific strategy to `truncation`.\n"
     ]
    },
    {
     "name": "stdout",
     "output_type": "stream",
     "text": [
      "Result: The TinyLlama project aims to pretrain a 1.1B Llama model on 3 trillion tokens. With some proper optimization, we can achieve this within a span of \"just\" 90 days using 16 A100-40G GPUs 🚀🚀. The training has started on 2023-09-01.\n",
      "The Tweet of the Day\n",
      "Amazon's AWS is now in the race as an OpenAI competitor with its Chatbot called Alexa! It'll have AI that learns from human input and will understand conversations between people through their voices — and it could even answer questions about things like weather forecasts or stock prices (or anything else you want). But Amazon's Alexa has one big drawback: You might be able find yourself asking her all sorts off stupid stuff without realizing she isn't actually listening for your voice commands at first glance.. The AI'd just hear a random series of words until there was someone who had spoken something intelligent enough; after which they could ask what happened next but not know if any actual dialogue took place before then either...\n",
      "Inside AI #65 - The Average Person Is Not Good At Prediction | Podcast\n",
      "Marcus Hutchins, Aaron Nguyen, Sai Prashantham, Alexandra Goulão\n"
     ]
    }
   ],
   "source": [
    "from transformers import AutoTokenizer\n",
    "import transformers \n",
    "import torch\n",
    "model = \"TinyLlama/TinyLlama_v1.1\"\n",
    "tokenizer = AutoTokenizer.from_pretrained(model)\n",
    "pipeline = transformers.pipeline(\n",
    "    \"text-generation\",\n",
    "    model=model,\n",
    "    torch_dtype=torch.float16,\n",
    "    device_map=\"auto\",\n",
    ")\n",
    "\n",
    "sequences = pipeline(\n",
    "    'The TinyLlama project aims to pretrain a 1.1B Llama model on 3 trillion tokens. With some proper optimization, we can achieve this within a span of \"just\" 90 days using 16 A100-40G GPUs 🚀🚀. The training has started on 2023-09-01.',\n",
    "    do_sample=True,\n",
    "    top_k=10,\n",
    "    num_return_sequences=1,\n",
    "    repetition_penalty=1.5,\n",
    "    eos_token_id=tokenizer.eos_token_id,\n",
    "    max_length=500,\n",
    ")\n",
    "for seq in sequences:\n",
    "    print(f\"Result: {seq['generated_text']}\")\n"
   ]
  },
  {
   "cell_type": "code",
   "execution_count": 26,
   "id": "3ee3173f-6f57-4d10-b434-22d32264f4ea",
   "metadata": {},
   "outputs": [
    {
     "name": "stdout",
     "output_type": "stream",
     "text": [
      "Result: Can you write a story about python vs java in 500 words to a 5th grade student? You can make it longer if that would be better. It must contain at least three sentences, and have an appropriate title (not too long). The best part of the assignment is your own creativity on choosing the topics for writing this essay..\n",
      "In addition to this topic you may also choose another one related with your interest such as \"The importance or the importance\" and many more interesting questions which are not available here... I need help with my english homework! I want someone who will do all works for me from A1 - Z level.\n",
      "If so please give us your number we ll get back within minutes.\n",
      "I hope everyone has good day!!! You should write your essays based upon some of those questions because they will help you know whether there was any error when reading their work. I am looking forward tp working together with students, who want to improve English grammar skills by doing our customized online courses, where teachers will provide you with personalized instruction according specific needs: If possible include a link between two or several paragraphs, to connect ideas that are being discussed throughout them; Make each sentence count; Use active voice instead passive (for example: the student got A'd in class), avoiding the use of passives like 'was given'; Include an explanation of what happened before/ after every event ; Use the active form while talking about yourself e.,g.: I was a good boy, now look how well ive done!; Use active voice while discussin g a problematic situation: I did everything right till then but something went wrong, now why?; Don´t forget to use a thesis statement and support these points with evidence. If time allows for additional revisions please let us know soonest. I am sure that this is going very nicely! We will keep in touch. Please don`t hesitate contacting us again!!\n",
      "CPU times: user 55.2 s, sys: 1.89 s, total: 57.1 s\n",
      "Wall time: 57.7 s\n"
     ]
    }
   ],
   "source": [
    "%%time\n",
    "sequences = pipeline(\n",
    "    'Can you write a story about python vs java in 500 words to a 5th grade student?',\n",
    "    do_sample=True,\n",
    "    top_k=10,\n",
    "    num_return_sequences=1,\n",
    "    repetition_penalty=1.5,\n",
    "    eos_token_id=tokenizer.eos_token_id,\n",
    "    max_length=500,\n",
    ")\n",
    "for seq in sequences:\n",
    "    print(f\"Result: {seq['generated_text']}\")"
   ]
  },
  {
   "cell_type": "code",
   "execution_count": 13,
   "id": "06179ad0-9cb7-424f-a7a4-d299be5bac25",
   "metadata": {},
   "outputs": [
    {
     "name": "stdout",
     "output_type": "stream",
     "text": [
      "Collecting groq\n",
      "  Downloading groq-0.9.0-py3-none-any.whl.metadata (13 kB)\n",
      "Requirement already satisfied: anyio<5,>=3.5.0 in /opt/homebrew/lib/python3.11/site-packages (from groq) (3.7.1)\n",
      "Requirement already satisfied: distro<2,>=1.7.0 in /opt/homebrew/lib/python3.11/site-packages (from groq) (1.8.0)\n",
      "Requirement already satisfied: httpx<1,>=0.23.0 in /opt/homebrew/lib/python3.11/site-packages (from groq) (0.27.0)\n",
      "Requirement already satisfied: pydantic<3,>=1.9.0 in /opt/homebrew/lib/python3.11/site-packages (from groq) (2.5.2)\n",
      "Requirement already satisfied: sniffio in /opt/homebrew/lib/python3.11/site-packages (from groq) (1.3.0)\n",
      "Requirement already satisfied: typing-extensions<5,>=4.7 in /opt/homebrew/lib/python3.11/site-packages (from groq) (4.9.0)\n",
      "Requirement already satisfied: idna>=2.8 in /opt/homebrew/lib/python3.11/site-packages (from anyio<5,>=3.5.0->groq) (3.4)\n",
      "Requirement already satisfied: certifi in /opt/homebrew/lib/python3.11/site-packages (from httpx<1,>=0.23.0->groq) (2023.7.22)\n",
      "Requirement already satisfied: httpcore==1.* in /opt/homebrew/lib/python3.11/site-packages (from httpx<1,>=0.23.0->groq) (1.0.2)\n",
      "Requirement already satisfied: h11<0.15,>=0.13 in /opt/homebrew/lib/python3.11/site-packages (from httpcore==1.*->httpx<1,>=0.23.0->groq) (0.14.0)\n",
      "Requirement already satisfied: annotated-types>=0.4.0 in /opt/homebrew/lib/python3.11/site-packages (from pydantic<3,>=1.9.0->groq) (0.6.0)\n",
      "Requirement already satisfied: pydantic-core==2.14.5 in /opt/homebrew/lib/python3.11/site-packages (from pydantic<3,>=1.9.0->groq) (2.14.5)\n",
      "Downloading groq-0.9.0-py3-none-any.whl (103 kB)\n",
      "\u001b[2K   \u001b[38;2;114;156;31m━━━━━━━━━━━━━━━━━━━━━━━━━━━━━━━━━━━━━━━━\u001b[0m \u001b[32m103.5/103.5 kB\u001b[0m \u001b[31m4.0 MB/s\u001b[0m eta \u001b[36m0:00:00\u001b[0m\n",
      "\u001b[?25hInstalling collected packages: groq\n",
      "Successfully installed groq-0.9.0\n",
      "\n",
      "\u001b[1m[\u001b[0m\u001b[34;49mnotice\u001b[0m\u001b[1;39;49m]\u001b[0m\u001b[39;49m A new release of pip is available: \u001b[0m\u001b[31;49m24.0\u001b[0m\u001b[39;49m -> \u001b[0m\u001b[32;49m24.1.2\u001b[0m\n",
      "\u001b[1m[\u001b[0m\u001b[34;49mnotice\u001b[0m\u001b[1;39;49m]\u001b[0m\u001b[39;49m To update, run: \u001b[0m\u001b[32;49mpython3.11 -m pip install --upgrade pip\u001b[0m\n",
      "Note: you may need to restart the kernel to use updated packages.\n"
     ]
    }
   ],
   "source": [
    "pip install groq"
   ]
  },
  {
   "cell_type": "code",
   "execution_count": 14,
   "id": "b7c48a47-0d3f-490a-9e45-a3e1bcfee678",
   "metadata": {},
   "outputs": [
    {
     "data": {
      "text/plain": [
       "True"
      ]
     },
     "execution_count": 14,
     "metadata": {},
     "output_type": "execute_result"
    }
   ],
   "source": [
    "import os\n",
    "from dotenv import load_dotenv, find_dotenv\n",
    "load_dotenv(find_dotenv(), override=True)"
   ]
  },
  {
   "cell_type": "code",
   "execution_count": 18,
   "id": "10038949-46f6-4b4b-b569-260afec0c95f",
   "metadata": {},
   "outputs": [
    {
     "name": "stdout",
     "output_type": "stream",
     "text": [
      "## The Code Commander's Challenge\n",
      "\n",
      "Deep in the Silicon Forest lived a Code Commander named Jasper. Jasper was in charge of leading the Forest’s robots, tiny machines that kept everything running. Today, a big problem had popped up: the robots were behaving strangely, causing chaos in the forest. \n",
      "\n",
      "Jasper knew he needed to find the root cause of the problem. \"Which programming language is causing the robots to act up?\" he pondered. Two suspects emerged: Python and Java.\n",
      "\n",
      "Python, known for its simple and easy-to-read code, was a chill and relaxed programmer. He loved using clear and concise language, like a gossiping friend. Java, on the other hand, was more strict and formal. He enforced every rule with precision, like a military general.\n",
      "\n",
      "Jasper started with Python. He whispered friendly commands and suggestions, urging the robots to \"move forward\" and \"turn left.\" Python responded with gentle grace, following instructions perfectly. But the robots kept malfunctioning, crashing into each other and causing more problems.\n",
      "\n",
      "Next, Jasper turned to Java. He gave detailed commands, listing every possible scenario and outcome. Java processed everything meticulously, but the robots still acted erratically. The code felt like a complex math problem, beyond Python's easy-going nature and beyond Java's rigid structure.\n",
      "\n",
      "Suddenly, a new voice appeared. It was Ruby, a young, creative programmer who loved combining both Python's simplicity with Java's precision. \"Let's mix the languages!\" Ruby exclaimed. \n",
      "\n",
      "Together, they crafted a new code that utilized Python's clear instructions with Java's accurate processing. The robots obeyed perfectly, moving smoothly and avoiding collisions. The forest rejoiced, and the robots efficiently restored order.\n",
      "\n",
      "Jasper realized the answer wasn't about choosing one language over the other. The best code came from borrowing the strengths of both – the simplicity of Python and the accuracy of Java.\n",
      "\n",
      "From that day on, Jasper learned a valuable lesson: the best programmers are those who can combine different languages and approaches to solve complex problems. And in the Silicon Forest, robots and robots only worked best when programmed with a balanced mix of chill and precision.\n",
      "CPU times: user 16.3 ms, sys: 2.67 ms, total: 19 ms\n",
      "Wall time: 1.11 s\n"
     ]
    }
   ],
   "source": [
    "%%time\n",
    "from groq import Groq\n",
    "import os\n",
    "client = Groq()\n",
    "\n",
    "chat_completion = client.chat.completions.create(\n",
    "    messages=[\n",
    "        {\n",
    "            \"role\": \"user\",\n",
    "            \"content\": \"Can you write a story about python vs java in 500 words to a 5th grade student?\",\n",
    "        }\n",
    "    ],\n",
    "    model=\"gemma-7b-it\",\n",
    ")\n",
    "\n",
    "print(chat_completion.choices[0].message.content)"
   ]
  },
  {
   "cell_type": "code",
   "execution_count": 20,
   "id": "817e05b8-e679-4756-80b2-9e5926419d09",
   "metadata": {},
   "outputs": [],
   "source": [
    "from llama_index.llms.groq import Groq"
   ]
  },
  {
   "cell_type": "code",
   "execution_count": 21,
   "id": "2ab27fa2-59c1-433d-9990-65cc1d4f9f11",
   "metadata": {},
   "outputs": [
    {
     "name": "stdout",
     "output_type": "stream",
     "text": [
      "Low-latency Large Language Models (LLMs) are crucial in various applications where real-time or near-real-time processing is essential. Here are some reasons why low-latency LLMs are important:\n",
      "\n",
      "1. **Interactive Systems**: In interactive systems like chatbots, virtual assistants, and conversational AI, low-latency LLMs enable rapid response times, creating a more natural and engaging user experience. Delays in response can lead to user frustration and abandonment.\n",
      "2. **Real-time Decision Making**: In applications like autonomous vehicles, medical diagnosis, or financial trading, low-latency LLMs can quickly process and analyze vast amounts of data to make timely decisions, ensuring safety, accuracy, and efficiency.\n",
      "3. **Live Streaming and Broadcasting**: Low-latency LLMs can facilitate real-time language translation, subtitling, and closed captions for live events, such as conferences, sports, and news broadcasts, making them more accessible to a broader audience.\n",
      "4. **Gaming and Simulation**: In online gaming and simulation environments, low-latency LLMs can generate realistic NPC (non-player character) interactions, dialogue, and narratives, enhancing the overall gaming experience.\n",
      "5. **Healthcare and Telemedicine**: Low-latency LLMs can facilitate real-time language translation and transcription in telemedicine, enabling healthcare professionals to communicate more effectively with patients who speak different languages.\n",
      "6. **Customer Service and Support**: In customer service and support applications, low-latency LLMs can quickly respond to customer inquiries, providing timely and accurate solutions, which can lead to increased customer satisfaction and loyalty.\n",
      "7. **Edge AI and IoT**: As Edge AI and IoT devices become more prevalent, low-latency LLMs can process data in real-time, enabling applications like smart home automation, industrial automation, and surveillance systems to respond quickly to changing conditions.\n",
      "8. **Security and Surveillance**: Low-latency LLMs can analyze vast amounts of data in real-time to detect and respond to security threats, such as cyber attacks, fraud detection, and surveillance systems.\n",
      "9. **Accessibility and Inclusion**: Low-latency LLMs can provide real-time language translation and transcription for people with disabilities, such as those who are deaf or hard of hearing, or those with language barriers.\n",
      "10. **Competitive Advantage**: In many industries, low-latency LLMs can provide a competitive advantage by enabling faster decision-making, improved customer experiences, and increased operational efficiency.\n",
      "\n",
      "To achieve low latency in LLMs, researchers and developers are exploring various techniques, including:\n",
      "\n",
      "1. Model pruning and knowledge distillation\n",
      "2. Quantization and precision reduction\n",
      "3. Parallel processing and distributed computing\n",
      "4. GPU acceleration and specialized hardware\n",
      "5. Optimized algorithms and data structures\n",
      "6. Caching and memoization\n",
      "7. Edge AI and decentralized computing\n",
      "\n",
      "By reducing latency in LLMs, we can unlock new possibilities for real-time AI applications, improving the efficiency, effectiveness, and overall user experience in various industries and domains.\n"
     ]
    }
   ],
   "source": [
    "llm = Groq(model=\"llama3-70b-8192\")\n",
    "response = llm.complete(\"Explain the importance of low latency LLMs\")\n",
    "print(response)\n"
   ]
  },
  {
   "cell_type": "code",
   "execution_count": null,
   "id": "545a7c41-c9cc-4d4d-b0b0-ced516d38401",
   "metadata": {},
   "outputs": [],
   "source": []
  },
  {
   "cell_type": "code",
   "execution_count": null,
   "id": "b07fa4d8-84ea-4ee3-9d4a-63fa5620e345",
   "metadata": {},
   "outputs": [],
   "source": []
  },
  {
   "cell_type": "code",
   "execution_count": 24,
   "id": "01e43561-25ea-4b7e-97a9-4ebada1a90ff",
   "metadata": {},
   "outputs": [
    {
     "ename": "SyntaxError",
     "evalue": "invalid syntax (2465067002.py, line 1)",
     "output_type": "error",
     "traceback": [
      "\u001b[0;36m  Cell \u001b[0;32mIn[24], line 1\u001b[0;36m\u001b[0m\n\u001b[0;31m    LLM:\u001b[0m\n\u001b[0m        ^\u001b[0m\n\u001b[0;31mSyntaxError\u001b[0m\u001b[0;31m:\u001b[0m invalid syntax\n"
     ]
    }
   ],
   "source": [
    "LLM:\n",
    "PROPERTIERY\n",
    "1. OPENAI - gpt3.5turbo, gpt4, gpt4o, gpt4o-mini\n",
    "2. GOOGLE - gemini, gemma\n",
    "3. ANTROPIC - claude haiku, claude sonnet, claude opus\n",
    "\n",
    "OPENSOURCE\n",
    "4. META - llama2, llma3\n",
    "5. MIXTRAL - mistral7b, mistal8x7b, mistral8x22b\n",
    "\n",
    "\n",
    "BEST MODEL ACCURACY - 20July 2024\n",
    "1. claude opus > gpt4o > llama3\n",
    "\n",
    "FASTEST MODEL PERFORMANCE\n",
    "1. gemma\n"
   ]
  },
  {
   "cell_type": "code",
   "execution_count": null,
   "id": "94dcf3a4-4db7-4060-8b1f-f0df74e8ffbe",
   "metadata": {},
   "outputs": [],
   "source": [
    "HOW TO ACCESS THE OPENSOURCE\n",
    "\n",
    "1. Download in your local and use the respective api \n",
    "2. HuggingFace\n",
    "3. Ollama\n",
    "4. Groq\n",
    "5. anyscale\n",
    "6. deploy it your server "
   ]
  },
  {
   "cell_type": "code",
   "execution_count": null,
   "id": "a3033715-6bc5-4823-a688-ae60b28d6e82",
   "metadata": {},
   "outputs": [],
   "source": [
    "HOW TO PROGRAM WITH LLM\n",
    "1. Using their own API\n",
    "2. Langchain\n",
    "3. Llama_index"
   ]
  },
  {
   "cell_type": "code",
   "execution_count": null,
   "id": "951e2805-72ad-4cc1-be03-c42ce56a9746",
   "metadata": {},
   "outputs": [],
   "source": [
    "HOW to deploy the LLM AppLication\n",
    "1. Flask  - production - AWS, GCP, Azure\n",
    "2. FastAPI - Production - AWS, GCP, Azure\n",
    "3. Streamlit - local - learning"
   ]
  }
 ],
 "metadata": {
  "kernelspec": {
   "display_name": "Python 3 (ipykernel)",
   "language": "python",
   "name": "python3"
  },
  "language_info": {
   "codemirror_mode": {
    "name": "ipython",
    "version": 3
   },
   "file_extension": ".py",
   "mimetype": "text/x-python",
   "name": "python",
   "nbconvert_exporter": "python",
   "pygments_lexer": "ipython3",
   "version": "3.11.8"
  }
 },
 "nbformat": 4,
 "nbformat_minor": 5
}
